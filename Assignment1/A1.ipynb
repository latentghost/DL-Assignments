{
 "cells": [
  {
   "cell_type": "markdown",
   "metadata": {},
   "source": [
    "### Dataset\n",
    "Download the MNIST dataset into local memory; this is used to implement the custom Dataset and DataLoader classes."
   ]
  },
  {
   "cell_type": "code",
   "execution_count": 1,
   "metadata": {},
   "outputs": [
    {
     "name": "stdout",
     "output_type": "stream",
     "text": [
      "/Users/akshatgupta/Desktop/IIITD/SEM_6/DL/DL-Assignments/Assignment1/mnist_data\n",
      "  % Total    % Received % Xferd  Average Speed   Time    Time     Time  Current\n",
      "                                 Dload  Upload   Total   Spent    Left  Speed\n",
      "100 9680k  100 9680k    0     0  5805k      0  0:00:01  0:00:01 --:--:-- 5803k\n",
      "  % Total    % Received % Xferd  Average Speed   Time    Time     Time  Current\n",
      "                                 Dload  Upload   Total   Spent    Left  Speed\n",
      "100 28881  100 28881    0     0  27221      0  0:00:01  0:00:01 --:--:-- 27246\n",
      "  % Total    % Received % Xferd  Average Speed   Time    Time     Time  Current\n",
      "                                 Dload  Upload   Total   Spent    Left  Speed\n",
      "100 1610k  100 1610k    0     0   757k      0  0:00:02  0:00:02 --:--:--  758k\n",
      "  % Total    % Received % Xferd  Average Speed   Time    Time     Time  Current\n",
      "                                 Dload  Upload   Total   Spent    Left  Speed\n",
      "100  4542  100  4542    0     0  11523      0 --:--:-- --:--:-- --:--:-- 11498\n",
      "/Users/akshatgupta/Desktop/IIITD/SEM_6/DL/DL-Assignments/Assignment1\n"
     ]
    }
   ],
   "source": [
    "!rm -rf mnist_data\n",
    "!mkdir mnist_data\n",
    "%cd mnist_data\n",
    "\n",
    "!curl -O http://yann.lecun.com/exdb/mnist/train-images-idx3-ubyte.gz\n",
    "!curl -O http://yann.lecun.com/exdb/mnist/train-labels-idx1-ubyte.gz\n",
    "!curl -O http://yann.lecun.com/exdb/mnist/t10k-images-idx3-ubyte.gz\n",
    "!curl -O http://yann.lecun.com/exdb/mnist/t10k-labels-idx1-ubyte.gz\n",
    "\n",
    "!gunzip *.gz\n",
    "%cd .."
   ]
  },
  {
   "cell_type": "markdown",
   "metadata": {},
   "source": [
    "### Transform \n",
    "This is the Transform function used for the custom DataLoader class."
   ]
  },
  {
   "cell_type": "code",
   "execution_count": 2,
   "metadata": {},
   "outputs": [],
   "source": [
    "import torch\n",
    "\n",
    "def tensor_transform(data):\n",
    "    return torch.from_numpy(data).to(torch.float32).div(255)"
   ]
  },
  {
   "cell_type": "markdown",
   "metadata": {},
   "source": [
    "### CustomDataSet Class\n",
    "This is the implementation of the custom Dataset class that returns a dataset object."
   ]
  },
  {
   "cell_type": "code",
   "execution_count": 3,
   "metadata": {},
   "outputs": [],
   "source": [
    "import os, struct\n",
    "import numpy as np\n",
    "\n",
    "\n",
    "class CustomDataset:\n",
    "    def __init__(self,root,train=True):\n",
    "        \"\"\"\n",
    "        Args:\n",
    "            root (str): path to the directory of the dataset\n",
    "            train (bool, default=True): if True return training data, else return testing data\n",
    "        \"\"\"\n",
    "        self.root = root\n",
    "        self.train = train\n",
    "\n",
    "        self.data_name = ('train-images-idx3-ubyte' if train else 't10k-images-idx3-ubyte')\n",
    "        self.labels_name = ('train-labels-idx1-ubyte' if train else 't10k-labels-idx1-ubyte')\n",
    "        self.data, self.labels = self.load_data()\n",
    "\n",
    "\n",
    "    def load_data(self):\n",
    "        data_path = os.path.join(self.root, self.data_name)\n",
    "        labels_path = os.path.join(self.root, self.labels_name)\n",
    "\n",
    "        with open(data_path, 'rb') as f:\n",
    "            _, _, rows, cols = struct.unpack('>IIII', f.read(16))\n",
    "            data = np.frombuffer(f.read(), dtype=np.uint8)\n",
    "            data = data.reshape(-1, 1, rows, cols)\n",
    "        with open(labels_path, 'rb') as f:\n",
    "            _, _ = struct.unpack('>II', f.read(8))\n",
    "            labels = np.frombuffer(f.read(), dtype=np.uint8)\n",
    "\n",
    "        return data, labels\n",
    "\n",
    "\n",
    "    def __len__(self):\n",
    "        return len(self.data)\n",
    "\n",
    "\n",
    "    def __getitem__(self,index):\n",
    "        img, target = list(self.data[index]), int(self.labels[index])\n",
    "        return img, target"
   ]
  },
  {
   "cell_type": "markdown",
   "metadata": {},
   "source": [
    "### CustomDataLoader Class\n",
    "This is the implementation of the custom DataLoader class that loads the MNIST dataset batch-wise as a dictionary with \"data\" indicating the image data, and \"label\" indicating the label of each corresponding sample."
   ]
  },
  {
   "cell_type": "code",
   "execution_count": 4,
   "metadata": {},
   "outputs": [],
   "source": [
    "class CustomDataLoader:\n",
    "    def __init__(self,dataset,batch_size=64,shuffle=False,transform=None):\n",
    "        \"\"\"\n",
    "        Args:\n",
    "            dataset (obj): Dataset object that will be loaded into the stream; must implement __getitem__ and __len__ functions\n",
    "            batch_size (int, default=64): batch size\n",
    "            shuffle (bool, default=False): if True shuffles the data before loading into stream\n",
    "            transform (callable, default=None): transform function to apply to data\n",
    "        \"\"\"\n",
    "        self.dataset = dataset\n",
    "        self.batch_size = batch_size\n",
    "        self.shuffle = shuffle\n",
    "        self.transform = transform\n",
    "        self.num_samples = len(dataset)\n",
    "        self.num_batches = (self.num_samples + batch_size - 1) // batch_size\n",
    "\n",
    "    def __iter__(self):\n",
    "        if self.shuffle:\n",
    "            indices = torch.randperm(self.num_samples)\n",
    "        else:\n",
    "            indices = torch.arange(self.num_samples)\n",
    "\n",
    "        for i in range(0, self.num_samples, self.batch_size):\n",
    "            batch_indices = indices[i:min(self.num_samples,i+self.batch_size)]\n",
    "            batch = [self.dataset[index] for index in batch_indices]\n",
    "            batch = tuple(zip(*batch))\n",
    "            data, label = batch\n",
    "\n",
    "            if self.transform is not None:\n",
    "                data = self.transform(np.array(data))\n",
    "\n",
    "            yield {'data':data,'label':label}\n",
    "\n",
    "    def __len__(self):\n",
    "        return self.num_batches"
   ]
  },
  {
   "cell_type": "code",
   "execution_count": 5,
   "metadata": {},
   "outputs": [],
   "source": [
    "traindata = CustomDataset(\n",
    "    root=\"./mnist_data/\",\n",
    "    train=True\n",
    ")\n",
    "traindata,valdata = torch.utils.data.random_split(traindata,[50000,10000])\n",
    "testdata = CustomDataset(\n",
    "    root=\"./mnist_data/\",\n",
    "    train=False\n",
    ")"
   ]
  },
  {
   "cell_type": "markdown",
   "metadata": {},
   "source": [
    "### Dataset using ```torch.utils.data.Dataset```\n",
    "This class loads the MNIST dataset using the implementation that PyTorch provides."
   ]
  },
  {
   "cell_type": "code",
   "execution_count": 6,
   "metadata": {},
   "outputs": [
    {
     "name": "stderr",
     "output_type": "stream",
     "text": [
      "/Library/Frameworks/Python.framework/Versions/3.10/lib/python3.10/site-packages/transformers/utils/generic.py:441: UserWarning: torch.utils._pytree._register_pytree_node is deprecated. Please use torch.utils._pytree.register_pytree_node instead.\n",
      "  _torch_pytree._register_pytree_node(\n"
     ]
    }
   ],
   "source": [
    "from torch.utils.data import Dataset, DataLoader\n",
    "from torchvision import datasets, transforms\n",
    "\n",
    "\n",
    "class MNISTDataset(Dataset):\n",
    "    def __init__(self, root, transform=None):\n",
    "        self.dataset = datasets.MNIST(root=root, train=True, transform=transform, download=True)\n",
    "\n",
    "    def __len__(self):\n",
    "        return len(self.dataset)\n",
    "\n",
    "    def __getitem__(self, idx):\n",
    "        image, label = self.dataset[idx]\n",
    "        return {'data': image, 'label': label}"
   ]
  },
  {
   "cell_type": "code",
   "execution_count": 7,
   "metadata": {},
   "outputs": [
    {
     "name": "stdout",
     "output_type": "stream",
     "text": [
      "Downloading http://yann.lecun.com/exdb/mnist/train-images-idx3-ubyte.gz\n",
      "Downloading http://yann.lecun.com/exdb/mnist/train-images-idx3-ubyte.gz to ./mnist_data/MNIST/raw/train-images-idx3-ubyte.gz\n"
     ]
    },
    {
     "name": "stderr",
     "output_type": "stream",
     "text": [
      "100%|██████████| 9912422/9912422 [00:02<00:00, 3666278.77it/s]\n"
     ]
    },
    {
     "name": "stdout",
     "output_type": "stream",
     "text": [
      "Extracting ./mnist_data/MNIST/raw/train-images-idx3-ubyte.gz to ./mnist_data/MNIST/raw\n",
      "\n",
      "Downloading http://yann.lecun.com/exdb/mnist/train-labels-idx1-ubyte.gz\n",
      "Downloading http://yann.lecun.com/exdb/mnist/train-labels-idx1-ubyte.gz to ./mnist_data/MNIST/raw/train-labels-idx1-ubyte.gz\n"
     ]
    },
    {
     "name": "stderr",
     "output_type": "stream",
     "text": [
      "100%|██████████| 28881/28881 [00:00<00:00, 3426461.51it/s]\n"
     ]
    },
    {
     "name": "stdout",
     "output_type": "stream",
     "text": [
      "Extracting ./mnist_data/MNIST/raw/train-labels-idx1-ubyte.gz to ./mnist_data/MNIST/raw\n",
      "\n",
      "Downloading http://yann.lecun.com/exdb/mnist/t10k-images-idx3-ubyte.gz\n",
      "Downloading http://yann.lecun.com/exdb/mnist/t10k-images-idx3-ubyte.gz to ./mnist_data/MNIST/raw/t10k-images-idx3-ubyte.gz\n"
     ]
    },
    {
     "name": "stderr",
     "output_type": "stream",
     "text": [
      "100%|██████████| 1648877/1648877 [00:01<00:00, 1196759.32it/s]\n"
     ]
    },
    {
     "name": "stdout",
     "output_type": "stream",
     "text": [
      "Extracting ./mnist_data/MNIST/raw/t10k-images-idx3-ubyte.gz to ./mnist_data/MNIST/raw\n",
      "\n",
      "Downloading http://yann.lecun.com/exdb/mnist/t10k-labels-idx1-ubyte.gz\n",
      "Downloading http://yann.lecun.com/exdb/mnist/t10k-labels-idx1-ubyte.gz to ./mnist_data/MNIST/raw/t10k-labels-idx1-ubyte.gz\n"
     ]
    },
    {
     "name": "stderr",
     "output_type": "stream",
     "text": [
      "100%|██████████| 4542/4542 [00:00<00:00, 10917208.46it/s]"
     ]
    },
    {
     "name": "stdout",
     "output_type": "stream",
     "text": [
      "Extracting ./mnist_data/MNIST/raw/t10k-labels-idx1-ubyte.gz to ./mnist_data/MNIST/raw\n",
      "\n"
     ]
    },
    {
     "name": "stderr",
     "output_type": "stream",
     "text": [
      "\n"
     ]
    }
   ],
   "source": [
    "transform = transforms.Compose([transforms.ToTensor(),transforms.Lambda(lambda x: x / 255.0)])\n",
    "mnist_data = MNISTDataset(root=\"./mnist_data/\",transform=transform)"
   ]
  },
  {
   "cell_type": "markdown",
   "metadata": {},
   "source": [
    "### Performance Comparison of DataLoaders\n",
    "The following blocks of code compare the performance of the CustomDataLoader and the torch.utils.data.DataLoader objects against different batch sizes.\n",
    "\n",
    "The graph indicates that the CustomDataLoader loads data faster at smaller batch sizes, but is out-performed at larger batch sizes. The mean performance time indicates the CustomDataLoader loads data faster than the torch.utils.data.DataLoader object and is thus used for all further tasks."
   ]
  },
  {
   "cell_type": "code",
   "execution_count": 8,
   "metadata": {},
   "outputs": [],
   "source": [
    "import time\n",
    "\n",
    "def measure_dataloader_time(dataloader):\n",
    "    start_time = time.time()\n",
    "    for batch in dataloader:\n",
    "        data,labels = batch\n",
    "        assert True\n",
    "    end_time = time.time()\n",
    "    return end_time - start_time"
   ]
  },
  {
   "cell_type": "code",
   "execution_count": 9,
   "metadata": {},
   "outputs": [
    {
     "name": "stderr",
     "output_type": "stream",
     "text": [
      "/Library/Frameworks/Python.framework/Versions/3.10/lib/python3.10/site-packages/torch/utils/data/_utils/collate.py:183: UserWarning: The given NumPy array is not writable, and PyTorch does not support non-writable tensors. This means writing to this tensor will result in undefined behavior. You may want to copy the array to protect its data or make it writable before converting it to a tensor. This type of warning will be suppressed for the rest of this program. (Triggered internally at /Users/runner/work/pytorch/pytorch/pytorch/torch/csrc/utils/tensor_numpy.cpp:212.)\n",
      "  return collate([torch.as_tensor(b) for b in batch], collate_fn_map=collate_fn_map)\n"
     ]
    }
   ],
   "source": [
    "batch_sizes = [128,256,512,1024]\n",
    "\n",
    "dataloader_1_times = []\n",
    "for batch_size in batch_sizes:\n",
    "    dataloader_1 = DataLoader(dataset=traindata, batch_size=batch_size, shuffle=True)\n",
    "    time_taken = measure_dataloader_time(dataloader_1)\n",
    "    dataloader_1_times.append(time_taken)\n",
    "\n",
    "dataloader_2_times = []\n",
    "for batch_size in batch_sizes:\n",
    "    dataloader_2 = CustomDataLoader(dataset=traindata,batch_size=batch_size,shuffle=True,transform=tensor_transform)\n",
    "    time_taken = measure_dataloader_time(dataloader_2)\n",
    "    dataloader_2_times.append(time_taken)"
   ]
  },
  {
   "cell_type": "code",
   "execution_count": 10,
   "metadata": {},
   "outputs": [
    {
     "data": {
      "image/png": "[encoded data removed]",
      "text/plain": [
       "<Figure size 432x288 with 1 Axes>"
      ]
     },
     "metadata": {
      "needs_background": "light"
     },
     "output_type": "display_data"
    }
   ],
   "source": [
    "import matplotlib.pyplot as plt\n",
    "\n",
    "plt.plot(batch_sizes, dataloader_1_times, label='torch.utils.data.DataLoader')\n",
    "plt.plot(batch_sizes, dataloader_2_times, label='CustomDataLoader')\n",
    "plt.xlabel('Batch Size')\n",
    "plt.ylabel('Time(sec)')\n",
    "plt.title('Dataloader Loading Performance Comparison')\n",
    "plt.legend()\n",
    "plt.show()"
   ]
  },
  {
   "cell_type": "code",
   "execution_count": 11,
   "metadata": {},
   "outputs": [
    {
     "data": {
      "text/plain": [
       "[0.18546700477600098,\n",
       " 0.1799299716949463,\n",
       " 0.15610909461975098,\n",
       " 0.21379470825195312]"
      ]
     },
     "execution_count": 11,
     "metadata": {},
     "output_type": "execute_result"
    }
   ],
   "source": [
    "dataloader_1_times"
   ]
  },
  {
   "cell_type": "code",
   "execution_count": 12,
   "metadata": {},
   "outputs": [
    {
     "data": {
      "text/plain": [
       "[0.20993995666503906,\n",
       " 0.17234110832214355,\n",
       " 0.16917204856872559,\n",
       " 0.16354990005493164]"
      ]
     },
     "execution_count": 12,
     "metadata": {},
     "output_type": "execute_result"
    }
   ],
   "source": [
    "dataloader_2_times"
   ]
  },
  {
   "cell_type": "code",
   "execution_count": 13,
   "metadata": {},
   "outputs": [
    {
     "data": {
      "text/plain": [
       "0.18382519483566284"
      ]
     },
     "execution_count": 13,
     "metadata": {},
     "output_type": "execute_result"
    }
   ],
   "source": [
    "np.mean(dataloader_1_times)"
   ]
  },
  {
   "cell_type": "code",
   "execution_count": 14,
   "metadata": {},
   "outputs": [
    {
     "data": {
      "text/plain": [
       "0.17875075340270996"
      ]
     },
     "execution_count": 14,
     "metadata": {},
     "output_type": "execute_result"
    }
   ],
   "source": [
    "np.mean(dataloader_2_times)"
   ]
  },
  {
   "cell_type": "markdown",
   "metadata": {},
   "source": [
    "### Feed-Forward NN\n",
    "This is the implementation of the Feed-Forward Neural Network using the PyTorch library functions and classes."
   ]
  },
  {
   "cell_type": "code",
   "execution_count": 15,
   "metadata": {},
   "outputs": [],
   "source": [
    "class FeedForwardNN(torch.nn.Module):\n",
    "    def __init__(self,input_size,hidden_sizes,num_classes):\n",
    "        super(FeedForwardNN, self).__init__()\n",
    "        self.fc1 = torch.nn.Linear(input_size, hidden_sizes[0])\n",
    "        self.relu1 = torch.nn.ReLU(inplace=True)\n",
    "\n",
    "        self.fc2 = torch.nn.Linear(hidden_sizes[0], hidden_sizes[1])\n",
    "        self.relu2 = torch.nn.ReLU(inplace=True)\n",
    "\n",
    "        self.fc3 = torch.nn.Linear(hidden_sizes[1], hidden_sizes[2])\n",
    "        self.relu3 = torch.nn.ReLU(inplace=True)\n",
    "\n",
    "        self.fc4 = torch.nn.Linear(hidden_sizes[2], hidden_sizes[3])\n",
    "        self.relu4 = torch.nn.ReLU(inplace=True)\n",
    "\n",
    "        self.fc_out = torch.nn.Linear(hidden_sizes[3], num_classes)\n",
    "        self.softmax = torch.nn.LogSoftmax(dim=1)\n",
    "\n",
    "    \n",
    "    def forward(self,x):\n",
    "        x = self.relu1(self.fc1(x))\n",
    "        x = self.relu2(self.fc2(x))\n",
    "        x = self.relu3(self.fc3(x))\n",
    "        x = self.relu4(self.fc4(x))\n",
    "        x = self.softmax(self.fc_out(x))\n",
    "\n",
    "        return x"
   ]
  },
  {
   "cell_type": "code",
   "execution_count": 16,
   "metadata": {},
   "outputs": [],
   "source": [
    "model = FeedForwardNN(\n",
    "    input_size=28*28,\n",
    "    hidden_sizes=[512,128,64,32],\n",
    "    num_classes=10\n",
    ")\n",
    "\n",
    "loss = torch.nn.CrossEntropyLoss()\n",
    "optimizer = torch.optim.SGD(params=model.parameters(),lr=0.0003)"
   ]
  },
  {
   "cell_type": "code",
   "execution_count": 17,
   "metadata": {},
   "outputs": [
    {
     "data": {
      "text/plain": [
       "FeedForwardNN(\n",
       "  (fc1): Linear(in_features=784, out_features=512, bias=True)\n",
       "  (relu1): ReLU(inplace=True)\n",
       "  (fc2): Linear(in_features=512, out_features=128, bias=True)\n",
       "  (relu2): ReLU(inplace=True)\n",
       "  (fc3): Linear(in_features=128, out_features=64, bias=True)\n",
       "  (relu3): ReLU(inplace=True)\n",
       "  (fc4): Linear(in_features=64, out_features=32, bias=True)\n",
       "  (relu4): ReLU(inplace=True)\n",
       "  (fc_out): Linear(in_features=32, out_features=10, bias=True)\n",
       "  (softmax): LogSoftmax(dim=1)\n",
       ")"
      ]
     },
     "execution_count": 17,
     "metadata": {},
     "output_type": "execute_result"
    }
   ],
   "source": [
    "mps_device = torch.device('mps')\n",
    "model.to(mps_device)"
   ]
  },
  {
   "cell_type": "code",
   "execution_count": 18,
   "metadata": {},
   "outputs": [],
   "source": [
    "trainloader = DataLoader(\n",
    "    traindata,\n",
    "    batch_size=128,\n",
    "    shuffle=True\n",
    ")\n",
    "valloader = DataLoader(\n",
    "    valdata,\n",
    "    batch_size=128,\n",
    "    shuffle=True\n",
    ")\n",
    "testloader = DataLoader(\n",
    "    testdata,\n",
    "    batch_size=128,\n",
    "    shuffle=True\n",
    ")"
   ]
  },
  {
   "cell_type": "code",
   "execution_count": 19,
   "metadata": {},
   "outputs": [
    {
     "name": "stdout",
     "output_type": "stream",
     "text": [
      "Epoch 1/60:\n",
      "Train Loss: 1.3889150425906072, Train Accuracy: 0.53706\n",
      "Val Loss: 0.7975260306008255, Val Accuracy: 0.7809\n",
      "\n",
      "Epoch 2/60:\n",
      "Train Loss: 0.6094376530183856, Train Accuracy: 0.83212\n",
      "Val Loss: 0.5156980571867544, Val Accuracy: 0.8577\n",
      "\n",
      "Epoch 3/60:\n",
      "Train Loss: 0.4408928490508243, Train Accuracy: 0.87652\n",
      "Val Loss: 0.4189725480502165, Val Accuracy: 0.8859\n",
      "\n",
      "Epoch 4/60:\n",
      "Train Loss: 0.36579835811234496, Train Accuracy: 0.89612\n",
      "Val Loss: 0.3653663853301278, Val Accuracy: 0.8971\n",
      "\n",
      "Epoch 5/60:\n",
      "Train Loss: 0.32183140992660964, Train Accuracy: 0.90828\n",
      "Val Loss: 0.3305152449049527, Val Accuracy: 0.9073\n",
      "\n",
      "Epoch 6/60:\n",
      "Train Loss: 0.2917901395684313, Train Accuracy: 0.91664\n",
      "Val Loss: 0.3066272794068614, Val Accuracy: 0.912\n",
      "\n",
      "Epoch 7/60:\n",
      "Train Loss: 0.2694482442058261, Train Accuracy: 0.92264\n",
      "Val Loss: 0.2842471671255329, Val Accuracy: 0.9176\n",
      "\n",
      "Epoch 8/60:\n",
      "Train Loss: 0.2520042215200031, Train Accuracy: 0.92778\n",
      "Val Loss: 0.27001149763789356, Val Accuracy: 0.9223\n",
      "\n",
      "Epoch 9/60:\n",
      "Train Loss: 0.2377934551147549, Train Accuracy: 0.93114\n",
      "Val Loss: 0.25981014995258067, Val Accuracy: 0.9257\n",
      "\n",
      "Epoch 10/60:\n",
      "Train Loss: 0.2252603380766976, Train Accuracy: 0.9353\n",
      "Val Loss: 0.24844286798299114, Val Accuracy: 0.9294\n",
      "\n",
      "Epoch 11/60:\n",
      "Train Loss: 0.21473093866311072, Train Accuracy: 0.93844\n",
      "Val Loss: 0.23815833748895912, Val Accuracy: 0.9305\n",
      "\n",
      "Epoch 12/60:\n",
      "Train Loss: 0.20553352117843335, Train Accuracy: 0.94132\n",
      "Val Loss: 0.23134394173946563, Val Accuracy: 0.933\n",
      "\n",
      "Epoch 13/60:\n",
      "Train Loss: 0.1971426470695859, Train Accuracy: 0.94378\n",
      "Val Loss: 0.23073328210960461, Val Accuracy: 0.9336\n",
      "\n",
      "Epoch 14/60:\n",
      "Train Loss: 0.18936568864471162, Train Accuracy: 0.946\n",
      "Val Loss: 0.22071053615853756, Val Accuracy: 0.9364\n",
      "\n",
      "Epoch 15/60:\n",
      "Train Loss: 0.18252529167686887, Train Accuracy: 0.94788\n",
      "Val Loss: 0.21343878543452371, Val Accuracy: 0.938\n",
      "\n",
      "Epoch 16/60:\n",
      "Train Loss: 0.1764532756203276, Train Accuracy: 0.9499\n",
      "Val Loss: 0.2094449575377416, Val Accuracy: 0.9391\n",
      "\n",
      "Epoch 17/60:\n",
      "Train Loss: 0.1706645828397835, Train Accuracy: 0.9512\n",
      "Val Loss: 0.20726744962643973, Val Accuracy: 0.9395\n",
      "\n",
      "Epoch 18/60:\n",
      "Train Loss: 0.16540169410998254, Train Accuracy: 0.95328\n",
      "Val Loss: 0.19975612567195408, Val Accuracy: 0.9406\n",
      "\n",
      "Epoch 19/60:\n",
      "Train Loss: 0.1603813325257405, Train Accuracy: 0.95504\n",
      "Val Loss: 0.19587548600533342, Val Accuracy: 0.9425\n",
      "\n",
      "Epoch 20/60:\n",
      "Train Loss: 0.1555121233281882, Train Accuracy: 0.95654\n",
      "Val Loss: 0.1911656824942631, Val Accuracy: 0.9431\n",
      "\n",
      "Epoch 21/60:\n",
      "Train Loss: 0.15140374697497128, Train Accuracy: 0.9572\n",
      "Val Loss: 0.19013708113115044, Val Accuracy: 0.9438\n",
      "\n",
      "Epoch 22/60:\n",
      "Train Loss: 0.14720103989743516, Train Accuracy: 0.9583\n",
      "Val Loss: 0.1886752526028247, Val Accuracy: 0.9446\n",
      "\n",
      "Epoch 23/60:\n",
      "Train Loss: 0.1432358476969287, Train Accuracy: 0.95952\n",
      "Val Loss: 0.1826150959616975, Val Accuracy: 0.9452\n",
      "\n",
      "Epoch 24/60:\n",
      "Train Loss: 0.13955956176304452, Train Accuracy: 0.96036\n",
      "Val Loss: 0.18043277365497395, Val Accuracy: 0.9462\n",
      "\n",
      "Epoch 25/60:\n",
      "Train Loss: 0.13589830206864326, Train Accuracy: 0.96166\n",
      "Val Loss: 0.18487213467118108, Val Accuracy: 0.9471\n",
      "\n",
      "Epoch 26/60:\n",
      "Train Loss: 0.13258682703956617, Train Accuracy: 0.96324\n",
      "Val Loss: 0.17944434539803975, Val Accuracy: 0.9481\n",
      "\n",
      "Epoch 27/60:\n",
      "Train Loss: 0.12935314878173496, Train Accuracy: 0.96434\n",
      "Val Loss: 0.17262188354624977, Val Accuracy: 0.9485\n",
      "\n",
      "Epoch 28/60:\n",
      "Train Loss: 0.1261762338773826, Train Accuracy: 0.96492\n",
      "Val Loss: 0.17578260062993328, Val Accuracy: 0.9482\n",
      "\n",
      "Epoch 29/60:\n",
      "Train Loss: 0.12335835637338936, Train Accuracy: 0.96556\n",
      "Val Loss: 0.16840395718058454, Val Accuracy: 0.9498\n",
      "\n",
      "Epoch 30/60:\n",
      "Train Loss: 0.12037963216738476, Train Accuracy: 0.96686\n",
      "Val Loss: 0.16530717918767204, Val Accuracy: 0.95\n",
      "\n",
      "Epoch 31/60:\n",
      "Train Loss: 0.11776679683752987, Train Accuracy: 0.9678\n",
      "Val Loss: 0.1644701732298996, Val Accuracy: 0.9506\n",
      "\n",
      "Epoch 32/60:\n",
      "Train Loss: 0.1150707461063743, Train Accuracy: 0.96804\n",
      "Val Loss: 0.16708868977767002, Val Accuracy: 0.9512\n",
      "\n",
      "Epoch 33/60:\n",
      "Train Loss: 0.1125508517484226, Train Accuracy: 0.9685\n",
      "Val Loss: 0.16325325349086448, Val Accuracy: 0.9517\n",
      "\n",
      "Epoch 34/60:\n",
      "Train Loss: 0.11023189063133944, Train Accuracy: 0.96986\n",
      "Val Loss: 0.16172322277215462, Val Accuracy: 0.9512\n",
      "\n",
      "Epoch 35/60:\n",
      "Train Loss: 0.10794481879000163, Train Accuracy: 0.9704\n",
      "Val Loss: 0.1574431090038034, Val Accuracy: 0.9523\n",
      "\n",
      "Epoch 36/60:\n",
      "Train Loss: 0.10555880357180257, Train Accuracy: 0.9708\n",
      "Val Loss: 0.1564702823333725, Val Accuracy: 0.9527\n",
      "\n",
      "Epoch 37/60:\n",
      "Train Loss: 0.10338368177737879, Train Accuracy: 0.97158\n",
      "Val Loss: 0.15408297450152003, Val Accuracy: 0.9527\n",
      "\n",
      "Epoch 38/60:\n",
      "Train Loss: 0.10127220844940456, Train Accuracy: 0.97268\n",
      "Val Loss: 0.15549589226706118, Val Accuracy: 0.9528\n",
      "\n",
      "Epoch 39/60:\n",
      "Train Loss: 0.09934808242865993, Train Accuracy: 0.97284\n",
      "Val Loss: 0.15237215010425711, Val Accuracy: 0.953\n",
      "\n",
      "Epoch 40/60:\n",
      "Train Loss: 0.09722072428659252, Train Accuracy: 0.97358\n",
      "Val Loss: 0.15155169165021257, Val Accuracy: 0.9535\n",
      "\n",
      "Epoch 41/60:\n",
      "Train Loss: 0.095123490814091, Train Accuracy: 0.9744\n",
      "Val Loss: 0.14949932666141777, Val Accuracy: 0.9534\n",
      "\n",
      "Epoch 42/60:\n",
      "Train Loss: 0.09328556807278215, Train Accuracy: 0.97514\n",
      "Val Loss: 0.14733251005033904, Val Accuracy: 0.9547\n",
      "\n",
      "Epoch 43/60:\n",
      "Train Loss: 0.0913870023025195, Train Accuracy: 0.97556\n",
      "Val Loss: 0.14695911288638658, Val Accuracy: 0.9546\n",
      "\n",
      "Epoch 44/60:\n",
      "Train Loss: 0.08958959125001412, Train Accuracy: 0.97622\n",
      "Val Loss: 0.144821402381021, Val Accuracy: 0.9558\n",
      "\n",
      "Epoch 45/60:\n",
      "Train Loss: 0.08803945373924797, Train Accuracy: 0.97624\n",
      "Val Loss: 0.14665732334686232, Val Accuracy: 0.9562\n",
      "\n",
      "Epoch 46/60:\n",
      "Train Loss: 0.08625089218530356, Train Accuracy: 0.97714\n",
      "Val Loss: 0.1499330653702911, Val Accuracy: 0.9557\n",
      "\n",
      "Epoch 47/60:\n",
      "Train Loss: 0.08457185420424432, Train Accuracy: 0.97764\n",
      "Val Loss: 0.14325422694600082, Val Accuracy: 0.9558\n",
      "\n",
      "Epoch 48/60:\n",
      "Train Loss: 0.08316416397233449, Train Accuracy: 0.9779\n",
      "Val Loss: 0.14007366641978675, Val Accuracy: 0.9571\n",
      "\n",
      "Epoch 49/60:\n",
      "Train Loss: 0.08169242645354222, Train Accuracy: 0.97882\n",
      "Val Loss: 0.13982167712683918, Val Accuracy: 0.9576\n",
      "\n",
      "Epoch 50/60:\n",
      "Train Loss: 0.07995231749246949, Train Accuracy: 0.97894\n",
      "Val Loss: 0.1424804086077817, Val Accuracy: 0.957\n",
      "\n",
      "Epoch 51/60:\n",
      "Train Loss: 0.07848628151618764, Train Accuracy: 0.97956\n",
      "Val Loss: 0.14606269774369046, Val Accuracy: 0.9573\n",
      "\n",
      "Epoch 52/60:\n",
      "Train Loss: 0.07693317651634327, Train Accuracy: 0.97986\n",
      "Val Loss: 0.13924769755405716, Val Accuracy: 0.9585\n",
      "\n",
      "Epoch 53/60:\n",
      "Train Loss: 0.07578634604563951, Train Accuracy: 0.98032\n",
      "Val Loss: 0.13629028677374502, Val Accuracy: 0.9583\n",
      "\n",
      "Epoch 54/60:\n",
      "Train Loss: 0.07435155932403281, Train Accuracy: 0.98062\n",
      "Val Loss: 0.13698971710061725, Val Accuracy: 0.9585\n",
      "\n",
      "Epoch 55/60:\n",
      "Train Loss: 0.07287673424462528, Train Accuracy: 0.98074\n",
      "Val Loss: 0.13614649999933906, Val Accuracy: 0.959\n",
      "\n",
      "Epoch 56/60:\n",
      "Train Loss: 0.07176922913402548, Train Accuracy: 0.98098\n",
      "Val Loss: 0.13462064154681902, Val Accuracy: 0.9589\n",
      "\n",
      "Epoch 57/60:\n",
      "Train Loss: 0.07038722785613725, Train Accuracy: 0.98148\n",
      "Val Loss: 0.13330990204637683, Val Accuracy: 0.9585\n",
      "\n",
      "Epoch 58/60:\n",
      "Train Loss: 0.06933598938252768, Train Accuracy: 0.98202\n",
      "Val Loss: 0.13514200531983678, Val Accuracy: 0.9597\n",
      "\n",
      "Epoch 59/60:\n",
      "Train Loss: 0.06805845409574564, Train Accuracy: 0.98226\n",
      "Val Loss: 0.13320091154567804, Val Accuracy: 0.9594\n",
      "\n",
      "Epoch 60/60:\n",
      "Train Loss: 0.06678457045570359, Train Accuracy: 0.98266\n",
      "Val Loss: 0.13100284875570972, Val Accuracy: 0.9595\n",
      "\n"
     ]
    }
   ],
   "source": [
    "train_loss,test_loss,val_loss,train_acc,test_acc,val_acc = [],[],[],[],[],[]\n",
    "n_epochs = 60\n",
    "\n",
    "for epoch in range(n_epochs):\n",
    "    model.train(mode=True)\n",
    "    correct = 0\n",
    "    n_samples = 0\n",
    "    total_loss = 0\n",
    "\n",
    "    for idx,batch in enumerate(trainloader):\n",
    "        optimizer.zero_grad()\n",
    "        data,labels = batch\n",
    "        data = data[0].to(mps_device)\n",
    "        labels = labels.to(mps_device)\n",
    "\n",
    "        inputs = data.view(data.size(0),-1).float()\n",
    "        outputs = model(inputs)\n",
    "        l = loss(outputs,labels)\n",
    "        l.backward()\n",
    "        optimizer.step()\n",
    "\n",
    "        _,pred = torch.max(outputs,1)\n",
    "        correct += (pred==labels).sum().item()\n",
    "        n_samples += labels.size(0)\n",
    "        total_loss += l.cpu().item()\n",
    "\n",
    "    avg_train_l = total_loss/len(trainloader)\n",
    "    train_a = correct/n_samples\n",
    "\n",
    "    train_loss.append(avg_train_l)\n",
    "    train_acc.append(train_a)\n",
    "\n",
    "\n",
    "    model.train(mode=False)\n",
    "    correct = 0\n",
    "    n_samples_test = 0\n",
    "    total_loss = 0\n",
    "\n",
    "    with torch.no_grad():\n",
    "        for idx,batch in enumerate(testloader):\n",
    "            testsamples,testlabels = batch\n",
    "            testsamples = testsamples[0].to(mps_device)\n",
    "            testlabels = testlabels.to(mps_device)\n",
    "\n",
    "            inputs = testsamples.view(testsamples.size(0),-1).float()\n",
    "            testoutputs = model(inputs)\n",
    "            l = loss(testoutputs,testlabels)\n",
    "\n",
    "            _,pred = torch.max(testoutputs,1)\n",
    "            correct += (pred==testlabels).sum().item()\n",
    "            n_samples_test += len(testlabels)\n",
    "            total_loss += l.cpu().item()\n",
    "\n",
    "    avg_test_l = total_loss/len(testloader)\n",
    "    test_a = correct/n_samples_test\n",
    "\n",
    "    test_loss.append(avg_test_l)\n",
    "    test_acc.append(test_a)\n",
    "\n",
    "\n",
    "    model.train(mode=False)\n",
    "    correct = 0\n",
    "    n_samples_val = 0\n",
    "    total_loss = 0\n",
    "\n",
    "    with torch.no_grad():\n",
    "        for idx,batch in enumerate(valloader):\n",
    "            valsamples,vallabels = batch\n",
    "            valsamples = valsamples[0].to(mps_device)\n",
    "            vallabels = vallabels.to(mps_device)\n",
    "\n",
    "            inputs = valsamples.view(valsamples.size(0),-1).float()\n",
    "            valoutputs = model(inputs)\n",
    "            l = loss(valoutputs,vallabels)\n",
    "\n",
    "            _,pred = torch.max(valoutputs,1)\n",
    "            correct += (pred==vallabels).sum().item()\n",
    "            n_samples_val += len(vallabels)\n",
    "            total_loss += l.cpu().item()\n",
    "\n",
    "    avg_val_l = total_loss/len(valloader)\n",
    "    val_a = correct/n_samples_val\n",
    "\n",
    "    val_loss.append(avg_val_l)\n",
    "    val_acc.append(val_a)\n",
    "\n",
    "\n",
    "    print(f\"Epoch {epoch+1}/{n_epochs}:\\nTrain Loss: {avg_train_l}, Train Accuracy: {train_a}\\nVal Loss: {avg_val_l}, Val Accuracy: {val_a}\\n\")\n",
    "    "
   ]
  },
  {
   "cell_type": "code",
   "execution_count": 22,
   "metadata": {},
   "outputs": [
    {
     "data": {
      "image/png": "[encoded data removed]",
      "text/plain": [
       "<Figure size 1440x576 with 2 Axes>"
      ]
     },
     "metadata": {
      "needs_background": "light"
     },
     "output_type": "display_data"
    }
   ],
   "source": [
    "plt.figure(figsize=(20, 8))\n",
    "\n",
    "# Plot Loss\n",
    "plt.subplot(1, 2, 1)\n",
    "plt.plot(range(1, n_epochs + 1), train_loss, label='Training')\n",
    "plt.plot(range(1, n_epochs + 1), val_loss, label='Validation')\n",
    "plt.plot(range(1, n_epochs + 1), test_loss, label='Testing')\n",
    "plt.title('Loss over Epochs')\n",
    "plt.xlabel('Epoch')\n",
    "plt.ylabel('Loss')\n",
    "plt.legend()\n",
    "\n",
    "# Plot Accuracy\n",
    "plt.subplot(1, 2, 2)\n",
    "plt.plot(range(1, n_epochs + 1), train_acc, label='Training')\n",
    "plt.plot(range(1, n_epochs + 1), val_acc, label='Validation')\n",
    "plt.plot(range(1, n_epochs + 1), test_acc, label='Testing')\n",
    "plt.title('Accuracy over Epochs')\n",
    "plt.xlabel('Epoch')\n",
    "plt.ylabel('Accuracy')\n",
    "plt.legend()\n",
    "\n",
    "# plt.tight_layout()\n",
    "plt.show()"
   ]
  },
  {
   "cell_type": "code",
   "execution_count": null,
   "metadata": {},
   "outputs": [],
   "source": []
  }
 ],
 "metadata": {
  "kernelspec": {
   "display_name": "Python 3",
   "language": "python",
   "name": "python3"
  },
  "language_info": {
   "codemirror_mode": {
    "name": "ipython",
    "version": 3
   },
   "file_extension": ".py",
   "mimetype": "text/x-python",
   "name": "python",
   "nbconvert_exporter": "python",
   "pygments_lexer": "ipython3",
   "version": "3.10.4"
  }
 },
 "nbformat": 4,
 "nbformat_minor": 2
}
