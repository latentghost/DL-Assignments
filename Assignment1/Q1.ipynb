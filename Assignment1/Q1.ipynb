{
 "cells": [
  {
   "cell_type": "code",
   "execution_count": 1,
   "metadata": {},
   "outputs": [
    {
     "name": "stdout",
     "output_type": "stream",
     "text": [
      "/Users/akshatgupta/Desktop/IIITD/SEM_6/DL/DL-Assignments/Assignment1/mnist_data\n",
      "  % Total    % Received % Xferd  Average Speed   Time    Time     Time  Current\n",
      "                                 Dload  Upload   Total   Spent    Left  Speed\n",
      "100 9680k  100 9680k    0     0  2989k      0  0:00:03  0:00:03 --:--:-- 2990k\n",
      "  % Total    % Received % Xferd  Average Speed   Time    Time     Time  Current\n",
      "                                 Dload  Upload   Total   Spent    Left  Speed\n",
      "100 28881  100 28881    0     0  57863      0 --:--:-- --:--:-- --:--:-- 57877\n",
      "  % Total    % Received % Xferd  Average Speed   Time    Time     Time  Current\n",
      "                                 Dload  Upload   Total   Spent    Left  Speed\n",
      "100 1610k  100 1610k    0     0  1555k      0  0:00:01  0:00:01 --:--:-- 1555k\n",
      "  % Total    % Received % Xferd  Average Speed   Time    Time     Time  Current\n",
      "                                 Dload  Upload   Total   Spent    Left  Speed\n",
      "100  4542  100  4542    0     0   6634      0 --:--:-- --:--:-- --:--:--  6630\n",
      "/Users/akshatgupta/Desktop/IIITD/SEM_6/DL/DL-Assignments/Assignment1\n"
     ]
    }
   ],
   "source": [
    "!rm -rf mnist_data\n",
    "!mkdir mnist_data\n",
    "%cd mnist_data\n",
    "\n",
    "!curl -O http://yann.lecun.com/exdb/mnist/train-images-idx3-ubyte.gz\n",
    "!curl -O http://yann.lecun.com/exdb/mnist/train-labels-idx1-ubyte.gz\n",
    "!curl -O http://yann.lecun.com/exdb/mnist/t10k-images-idx3-ubyte.gz\n",
    "!curl -O http://yann.lecun.com/exdb/mnist/t10k-labels-idx1-ubyte.gz\n",
    "\n",
    "!gunzip *.gz\n",
    "%cd .."
   ]
  },
  {
   "cell_type": "code",
   "execution_count": 10,
   "metadata": {},
   "outputs": [],
   "source": [
    "import torch\n",
    "\n",
    "def tensor_transform(data):\n",
    "    return torch.from_numpy(data).to(torch.float32)"
   ]
  },
  {
   "cell_type": "code",
   "execution_count": 11,
   "metadata": {},
   "outputs": [],
   "source": [
    "import os, struct, torch\n",
    "import numpy as np\n",
    "\n",
    "\n",
    "class CustomDataset:\n",
    "    def __init__(self,root,train=True,transform=None):\n",
    "        \"\"\"\n",
    "        Args:\n",
    "            root (str): path to the directory of the dataset\n",
    "            train (bool): if True return training data, else return testing data\n",
    "            transform: transform function to apply to data\n",
    "        \"\"\"\n",
    "        self.root = root\n",
    "        self.train = train\n",
    "        self.transform = transform\n",
    "\n",
    "        ## File names for the train and test sets \n",
    "        self.data_name = ('train-images-idx3-ubyte' if train else 't10k-images-idx3-ubyte')\n",
    "        self.labels_name = ('train-labels-idx1-ubyte' if train else 't10k-labels-idx1-ubyte')\n",
    "\n",
    "        self.data, self.labels = self.load_data()\n",
    "\n",
    "\n",
    "    def load_data(self):\n",
    "        ## File paths for the data and label sets \n",
    "        data_path = os.path.join(self.root, self.data_name)\n",
    "        labels_path = os.path.join(self.root, self.labels_name)\n",
    "\n",
    "        with open(data_path, 'rb') as f:\n",
    "            _, _, rows, cols = struct.unpack('>IIII', f.read(16))\n",
    "            data = np.frombuffer(f.read(), dtype=np.uint8)\n",
    "            data = data.reshape(-1, rows, cols)\n",
    "        with open(labels_path, 'rb') as f:\n",
    "            _, _ = struct.unpack('>II', f.read(8))\n",
    "            labels = np.frombuffer(f.read(), dtype=np.uint8)\n",
    "\n",
    "        return data, labels\n",
    "\n",
    "\n",
    "    def __len__(self):\n",
    "        return len(self.data)\n",
    "\n",
    "\n",
    "    def __getitem__(self, index):\n",
    "        img, target = self.data[index], int(self.labels[index])\n",
    "\n",
    "        if self.transform is not None:\n",
    "            img = self.transform(img)\n",
    "\n",
    "        return img, target"
   ]
  },
  {
   "cell_type": "code",
   "execution_count": 12,
   "metadata": {},
   "outputs": [],
   "source": [
    "data = CustomDataset(\n",
    "    root=\"./mnist_data/\",\n",
    "    train=True,\n",
    "    transform=tensor_transform\n",
    ")"
   ]
  },
  {
   "cell_type": "code",
   "execution_count": null,
   "metadata": {},
   "outputs": [],
   "source": []
  }
 ],
 "metadata": {
  "kernelspec": {
   "display_name": "Python 3",
   "language": "python",
   "name": "python3"
  },
  "language_info": {
   "codemirror_mode": {
    "name": "ipython",
    "version": 3
   },
   "file_extension": ".py",
   "mimetype": "text/x-python",
   "name": "python",
   "nbconvert_exporter": "python",
   "pygments_lexer": "ipython3",
   "version": "3.10.4"
  }
 },
 "nbformat": 4,
 "nbformat_minor": 2
}
